{
 "cells": [
  {
   "cell_type": "code",
   "execution_count": 1,
   "metadata": {},
   "outputs": [
    {
     "name": "stdout",
     "output_type": "stream",
     "text": [
      "Collecting pip\n",
      "  Using cached pip-20.2.4-py2.py3-none-any.whl (1.5 MB)\n",
      "Installing collected packages: pip\n",
      "  Attempting uninstall: pip\n",
      "    Found existing installation: pip 20.0.2\n",
      "    Uninstalling pip-20.0.2:\n",
      "      Successfully uninstalled pip-20.0.2\n",
      "Successfully installed pip-20.2.4\n",
      "Collecting detecto\n",
      "  Downloading detecto-1.2.0-py3-none-any.whl (25 kB)\n",
      "Requirement already satisfied: pandas in /home/ec2-user/anaconda3/envs/pytorch_latest_p36/lib/python3.6/site-packages (from detecto) (1.0.1)\n",
      "Requirement already satisfied: opencv-python in /home/ec2-user/anaconda3/envs/pytorch_latest_p36/lib/python3.6/site-packages (from detecto) (4.2.0.32)\n",
      "Requirement already satisfied: matplotlib in /home/ec2-user/anaconda3/envs/pytorch_latest_p36/lib/python3.6/site-packages (from detecto) (3.1.3)\n",
      "Requirement already satisfied: torch in /home/ec2-user/anaconda3/envs/pytorch_latest_p36/lib/python3.6/site-packages (from detecto) (1.7.0)\n",
      "Requirement already satisfied: torchvision in /home/ec2-user/anaconda3/envs/pytorch_latest_p36/lib/python3.6/site-packages (from detecto) (0.8.1)\n",
      "Requirement already satisfied: python-dateutil>=2.6.1 in /home/ec2-user/anaconda3/envs/pytorch_latest_p36/lib/python3.6/site-packages (from pandas->detecto) (2.8.1)\n",
      "Requirement already satisfied: numpy>=1.13.3 in /home/ec2-user/anaconda3/envs/pytorch_latest_p36/lib/python3.6/site-packages (from pandas->detecto) (1.18.1)\n",
      "Requirement already satisfied: pytz>=2017.2 in /home/ec2-user/anaconda3/envs/pytorch_latest_p36/lib/python3.6/site-packages (from pandas->detecto) (2019.3)\n",
      "Requirement already satisfied: kiwisolver>=1.0.1 in /home/ec2-user/anaconda3/envs/pytorch_latest_p36/lib/python3.6/site-packages (from matplotlib->detecto) (1.1.0)\n",
      "Requirement already satisfied: cycler>=0.10 in /home/ec2-user/anaconda3/envs/pytorch_latest_p36/lib/python3.6/site-packages (from matplotlib->detecto) (0.10.0)\n",
      "Requirement already satisfied: pyparsing!=2.0.4,!=2.1.2,!=2.1.6,>=2.0.1 in /home/ec2-user/anaconda3/envs/pytorch_latest_p36/lib/python3.6/site-packages (from matplotlib->detecto) (2.4.6)\n",
      "Requirement already satisfied: future in /home/ec2-user/anaconda3/envs/pytorch_latest_p36/lib/python3.6/site-packages (from torch->detecto) (0.18.2)\n",
      "Requirement already satisfied: typing_extensions in /home/ec2-user/anaconda3/envs/pytorch_latest_p36/lib/python3.6/site-packages (from torch->detecto) (3.7.4.3)\n",
      "Requirement already satisfied: dataclasses in /home/ec2-user/anaconda3/envs/pytorch_latest_p36/lib/python3.6/site-packages (from torch->detecto) (0.7)\n",
      "Requirement already satisfied: pillow>=4.1.1 in /home/ec2-user/anaconda3/envs/pytorch_latest_p36/lib/python3.6/site-packages (from torchvision->detecto) (7.0.0)\n",
      "Requirement already satisfied: six>=1.5 in /home/ec2-user/anaconda3/envs/pytorch_latest_p36/lib/python3.6/site-packages (from python-dateutil>=2.6.1->pandas->detecto) (1.14.0)\n",
      "Requirement already satisfied: setuptools in /home/ec2-user/anaconda3/envs/pytorch_latest_p36/lib/python3.6/site-packages (from kiwisolver>=1.0.1->matplotlib->detecto) (45.2.0.post20200210)\n",
      "Installing collected packages: detecto\n",
      "Successfully installed detecto-1.2.0\n"
     ]
    }
   ],
   "source": [
    "! /home/ec2-user/anaconda3/envs/pytorch_latest_p36/bin/python -m pip install --upgrade pip\n",
    "! pip3 install detecto"
   ]
  },
  {
   "cell_type": "code",
   "execution_count": 2,
   "metadata": {
    "scrolled": false
   },
   "outputs": [
    {
     "name": "stderr",
     "output_type": "stream",
     "text": [
      "Downloading: \"https://download.pytorch.org/models/fasterrcnn_resnet50_fpn_coco-258fb6c6.pth\" to /home/ec2-user/.cache/torch/hub/checkpoints/fasterrcnn_resnet50_fpn_coco-258fb6c6.pth\n"
     ]
    },
    {
     "data": {
      "application/vnd.jupyter.widget-view+json": {
       "model_id": "777882d9d012456aab1580b00cde6376",
       "version_major": 2,
       "version_minor": 0
      },
      "text/plain": [
       "HBox(children=(FloatProgress(value=0.0, max=167502836.0), HTML(value='')))"
      ]
     },
     "metadata": {},
     "output_type": "display_data"
    },
    {
     "name": "stdout",
     "output_type": "stream",
     "text": [
      "\n"
     ]
    }
   ],
   "source": [
    "from detecto.core import Model\n",
    "\n",
    "weights = \"model_weights.pth\"\n",
    "labels = [\"traffic-light\", \"crosswalk\", \"manhole\", \"traffic-cone\", \"bike-lane\", \"pedestrian\"]\n",
    "\n",
    "iterations = 10\n",
    "\n",
    "model = Model.load(weights, labels)"
   ]
  },
  {
   "cell_type": "code",
   "execution_count": null,
   "metadata": {
    "scrolled": false
   },
   "outputs": [],
   "source": [
    "#TRAIN MODEL\n",
    "from detecto.core import Dataset\n",
    "import matplotlib.pyplot as plt\n",
    "\n",
    "training_dataset = Dataset('train/')\n",
    "validation_dataset = Dataset('validate/')\n",
    "\n",
    "losses = model.fit(training_dataset, validation_dataset, epochs=iterations, verbose=True)\n",
    "\n",
    "plt.plot(losses)\n",
    "plt.show()"
   ]
  },
  {
   "cell_type": "code",
   "execution_count": null,
   "metadata": {},
   "outputs": [],
   "source": [
    "# save model weights for further iterations\n",
    "\n",
    "model.save(\"model_weights.pth\")"
   ]
  },
  {
   "cell_type": "code",
   "execution_count": 3,
   "metadata": {},
   "outputs": [],
   "source": [
    "# method to create an array of object counts corresponding to the `labels` array\n",
    "\n",
    "def count_labels(test_labels, test_scores, confidence):\n",
    "    count = [0 for label in labels]\n",
    "    \n",
    "    for j in range(len(test_labels)):\n",
    "        if test_scores[j] > confidence:\n",
    "            count[labels.index(test_labels[j])] += 1 #by indexing with the labels array, the count array is formatted in the same order\n",
    "    return count"
   ]
  },
  {
   "cell_type": "code",
   "execution_count": 4,
   "metadata": {},
   "outputs": [],
   "source": [
    "def count_label_data(file_contents):\n",
    "    totals = [0 for label in labels]\n",
    "    \n",
    "    for i in range(len(labels)):\n",
    "        totals[i] = file_contents.count(labels[i])\n",
    "    return totals"
   ]
  },
  {
   "cell_type": "code",
   "execution_count": 6,
   "metadata": {
    "scrolled": false
   },
   "outputs": [
    {
     "name": "stdout",
     "output_type": "stream",
     "text": [
      "processing: D0jT8piaWW9ndvvfUviSRQ.jpg\n",
      "processing: D9yEFdpkv9Ly285Brdsydw.jpg\n",
      "processing: YIfJz9uVUNXNwpwBs1DXcg.jpg\n",
      "processing: YIxgZYdnCt82fIubMEx5jg.jpg\n",
      "processing: YK11CuhJxHSOplLIsvVbBQ.jpg\n",
      "processing: YM2-lT6bZU1eNULcXi6tbw.jpg\n",
      "processing: YMf3UqqHrF3mM8vmn8hW7w.jpg\n",
      "processing: YQXgEhyS4CF4X7YvRRsZrw.jpg\n",
      "processing: YQ_Iqfbbk7g2x60VQ2N5Dg.jpg\n",
      "processing: YRdV3a7ZOExoMKyAJb0LJQ.jpg\n",
      "processing: YRgWE2RadNc9pZqyWEa2Ow.jpg\n",
      "processing: YVbZAoBngxpzTseRnEuyLQ.jpg\n",
      "processing: YVrEbUT4JAagA_HuCgWjTQ.jpg\n",
      "processing: YYWaU2ytAech8u52CgtWiw.jpg\n",
      "processing: YZ7qIO04lmAutpyn49_Y0w.jpg\n",
      "processing: YZUF1XkrXWgN-Dol63QPxQ.jpg\n",
      "processing: YdLJqPROdacw_KkYZeUMIw.jpg\n",
      "processing: Yf6OFLTxxF_mhto8gyaKZg.jpg\n",
      "processing: YfooLiEoLE_quCc-aB98jA.jpg\n",
      "processing: YftxY7pM6lM0z59kA9VbFg.jpg\n",
      "processing: Ygni6ulCny5i-r4uWhqK-A.jpg\n",
      "processing: YhNVWVYOpJtDrTPcWezAoA.jpg\n",
      "processing: Yn2fWYJpDWZVwNsjEiFA7A.jpg\n",
      "processing: YoefkQrDl2iy61CYi_DxlQ.jpg\n",
      "processing: YuxsO9Y-j-z-H0Ehls2pLg.jpg\n",
      "processing: YwBEeLXGRF2hxMPASrgWUg.jpg\n",
      "processing: Yy15ej5kTKygaXhjnMLIDA.jpg\n",
      "processing: Z2ecqSznPjWH6UJjBla86w.jpg\n",
      "processing: Z3S1ProBzd7VQE-Iu7we7Q.jpg\n",
      "processing: ZADDVHjJg10_9G-WF4zgDQ.jpg\n",
      "processing: ZBjw0NGn1DaV6z4kGWVwbw.jpg\n",
      "processing: ZF6M7FNymFmalwtacdLqzw.jpg\n",
      "processing: ZFpN6OAyinL8ocG7ILQY8Q.jpg\n",
      "processing: ZHN19Nyr8PM5CgAATvmdvg.jpg\n",
      "processing: ZL67KIW45TMosMKaoqvMjg.jpg\n",
      "processing: ZcuEP_UmrJ0UHUmkpx5X4Q.jpg\n",
      "processing: Zf3CkM2MH6YMUSnIffYWTA.jpg\n",
      "processing: ZgYE0JoCab5SCN6_gN5J-A.jpg\n",
      "processing: Zh7WODzqbXs55H8sWKIDNw.jpg\n",
      "processing: Zi2QA-PdBIyJyZsxYiI4KA.jpg\n",
      "processing: ZqHC31h8VssscH33VG9RVQ.jpg\n",
      "processing: Zr8y735A7U2AiiW9wXdHpg.jpg\n",
      "processing: Zt_AwnYWu1CwWPH-rwSTkw.jpg\n",
      "processing: cx8NzsAedCVVSOw-t96kaQ.jpg\n",
      "processing: czUHORPkqI271EdoFvIBdQ.jpg\n",
      "processing: dbOyXojVUVrCApCtrD7DRQ.jpg\n",
      "processing: dcrPGnYoP1npBWHU-5Liqg.jpg\n",
      "processing: yDVQ68feeskvYjHyuHLTBg.jpg\n",
      "processing: yJ4nWRdvJ1q6nQg0pHiU_A.jpg\n",
      "processing: yJ889wzZWG__WSQ94Bi88A.jpg\n",
      "processing: yKUhYTwXTdzoaZlzEnh4gg.jpg\n",
      "processing: yN-Y8iaeIxCin6GJ8jBnJA.jpg\n",
      "processing: yV5-8cZpDOd3AO7JRR2kLg.jpg\n",
      "processing: yV9ipiSEpirInQx44Eu9KA.jpg\n",
      "processing: yZqDVNxOEPLT0BCuqvfPwg.jpg\n",
      "processing: ymq7sL08fdyEzTzUCVNpnA.jpg\n",
      "processing: yq-6oWj3UpQFScV5SSWRsg.jpg\n",
      "processing: yrt3eO9GcYGxS7XhtZyXLA.jpg\n",
      "processing: ysT1zwBaptS3rZH2g8GfGQ.jpg\n",
      "processing: ytO8sVVB4iz_8948jWynew.jpg\n",
      "processing: yvdHLwX91oyDMyLKCqxmRw.jpg\n",
      "processing: yz3pOR77TDmcjuHEqsFiVA.jpg\n",
      "processing: yzDrXui4ErL2hmZV_0VZ1A.jpg\n",
      "processing: z0TUXVxNSvd94x2D61CseA.jpg\n",
      "processing: z1nxqLBZftrW83ATKoPKgA.jpg\n",
      "processing: z292Guxmo0d1sUFfgjxdhg.jpg\n",
      "processing: z7coC_UYWxjIRlkQFdD2sQ.jpg\n",
      "processing: z8aF3Bv-6LOq9p5vPYFmwg.jpg\n",
      "processing: z9RVRKUwsuTqVkpmjKzwMQ.jpg\n",
      "processing: zCMAcehvW6YlwoBRxbNB6A.jpg\n",
      "processing: zCRO27_rGEmt6XrwC0iAbQ.jpg\n",
      "processing: zCgMnnuF3RRvZhBaBz60cw.jpg\n",
      "processing: zFk0bixokLsnwdQtpwAD1A.jpg\n",
      "processing: zFoapdPHLgewf98oiXiT_Q.jpg\n",
      "processing: zaL0-d4BR5nMDHpd95duyw.jpg\n",
      "processing: zcUkb_ujSOXx4l4E-QdQzw.jpg\n",
      "processing: zfQVbCiBmvSJ4-vTmR1SCA.jpg\n",
      "processing: zipYI8373CSndlaZLH9QPQ.jpg\n",
      "processing: zo5mG9e7OGmJONRTWZ_HGg.jpg\n",
      "processing: zolDaDfGjaAh5myiz_YaFQ.jpg\n",
      "validation_set accuracy: 0.9230769230769231\n"
     ]
    },
    {
     "data": {
      "image/png": "[encoded data removed]",
      "text/plain": [
       "<Figure size 432x288 with 1 Axes>"
      ]
     },
     "metadata": {
      "needs_background": "light"
     },
     "output_type": "display_data"
    }
   ],
   "source": [
    "#test validation set for accuracy\n",
    "\n",
    "import os\n",
    "from os import listdir, O_RDONLY\n",
    "from os.path import isfile, join\n",
    "from detecto.utils import read_image\n",
    "import matplotlib.pyplot as plt\n",
    "\n",
    "labels = [\"traffic-light\", \"crosswalk\", \"manhole\", \"traffic-cone\", \"bike-lane\", \"pedestrian\"]\n",
    "byte_limit = 4096\n",
    "\n",
    "val_dir = \"validate/\"\n",
    "val_data = [file for file in listdir(val_dir) if isfile(join(val_dir, file))]\n",
    "\n",
    "val_images = [file for file in val_data if file.split(\".\")[1]==\"jpg\"]\n",
    "val_labels = [file for file in val_data if file.split(\".\")[1]==\"xml\"]\n",
    "\n",
    "val_images.sort()\n",
    "val_labels.sort()\n",
    "\n",
    "total_identified = 0\n",
    "total_existing = 0\n",
    "accuracy_tracker = []\n",
    "\n",
    "for i in range(len(val_images)):\n",
    "    fd = os.open(\"{0}{1}\".format(val_dir,val_labels[i]), O_RDONLY)\n",
    "    print(\"processing: {}\".format(val_images[i]))\n",
    "\n",
    "    file_contents = os.read(fd, byte_limit).decode()\n",
    "    label_data = count_label_data(file_contents)\n",
    "\n",
    "    total_existing += sum(label_data)\n",
    "\n",
    "    #get predictions from model on validation image\n",
    "    image = read_image(\"{0}{1}\".format(val_dir, val_images[i]))\n",
    "    test_labels, test_boxes, test_scores = model.predict(image)\n",
    "\n",
    "    label_predictions = count_labels(test_labels, test_scores, 0.4)\n",
    "\n",
    "    for j in range(len(label_predictions)):\n",
    "        total_identified += min(label_predictions[j], label_data[j])\n",
    "    os.close(fd)\n",
    "    accuracy_tracker.append(total_identified / total_existing)\n",
    "\n",
    "print(\"validation_set accuracy: {}\".format(total_identified / total_existing))\n",
    "plt.plot(accuracy_tracker)\n",
    "plt.show()    "
   ]
  },
  {
   "cell_type": "code",
   "execution_count": null,
   "metadata": {},
   "outputs": [],
   "source": []
  },
  {
   "cell_type": "code",
   "execution_count": null,
   "metadata": {},
   "outputs": [],
   "source": [
    "# test model against new image set\n",
    "\n",
    "import os\n",
    "from os import listdir, O_RDWR, O_CREAT\n",
    "from os.path import isfile, join\n",
    "from detecto.utils import read_image\n",
    "\n",
    "#define testing images\n",
    "test_dir = \"test/\"\n",
    "test_images = [file for file in listdir(test_dir) if isfile(join(test_dir, file))]\n",
    "\n",
    "#open results and log files\n",
    "fd1 = os.open(\"test_results.txt\", O_RDWR | O_CREAT)\n",
    "fd2 = os.open(\"test_logs.txt\", O_RDWR | O_CREAT)\n",
    "\n",
    "#add header to results file\n",
    "formatted_labels = \"{:26}\".format(\"image\")\n",
    "for label in labels:\n",
    "    formatted_labels += \"{:>14}\".format(label)\n",
    "formatted_labels += \"\\n\"\n",
    "\n",
    "os.write(fd1, formatted_labels.encode())\n",
    "\n",
    "for i in range(len(test_images)):\n",
    "    #set filename and make predictions\n",
    "    image = read_image(\"{0}{1}\".format(test_dir, test_images[i]))\n",
    "    test_labels, test_boxes, test_scores = model.predict(image)\n",
    "    \n",
    "    #write to log file\n",
    "    os.write(fd2, (\"image: {}\\n\".format(test_images[i])).encode())\n",
    "    for j in range(len(test_labels)):\n",
    "        os.write(fd2, (\"label: {0}\\t\\tbox: {1}\\tscore: {2}\\n\".format(test_labels[j], str(test_boxes[j]), str(test_scores[j]))).encode())\n",
    "    os.write(fd2, \"\\n\".encode())\n",
    "    \n",
    "    if len(test_labels) == 0:\n",
    "        os.write(fd2, \"N/A\\n\".encode())\n",
    "    \n",
    "    #count objects and format for results file\n",
    "    object_counts = count_labels(test_labels, test_scores)\n",
    "    object_counts = [str(count) for count in object_counts]\n",
    "    formatted_object_counts = test_images[i]\n",
    "    for count in object_counts:\n",
    "        formatted_object_counts += \"{:>14}\".format(count)\n",
    "    formatted_object_counts += \"\\n\\n\"\n",
    "    \n",
    "    #format rows with separation\n",
    "    os.write(fd1, formatted_object_counts.encode())\n",
    "    os.write(fd1, (\"-\" * (26 + 14 * 6) + \"\\n\").encode())\n",
    "\n",
    "os.close(fd1)\n",
    "os.close(fd2)"
   ]
  },
  {
   "cell_type": "code",
   "execution_count": null,
   "metadata": {
    "scrolled": false
   },
   "outputs": [],
   "source": [
    "# test on new images\n",
    "\n",
    "from detecto.utils import read_image\n",
    "from detecto.visualize import show_labeled_image\n",
    "\n",
    "image01 = read_image('test01.jpg')\n",
    "image02 = read_image('test02.jpg')\n",
    "image03 = read_image('test03.jpg')\n",
    "\n",
    "images = [image01, image02, image03]\n",
    "\n",
    "for i in range(len(images)):\n",
    "    print(\"image: {}\".format(i))\n",
    "    test_labels, test_boxes, test_scores = model.predict_top(images[i])\n",
    "    for j in range(len(test_boxes)):\n",
    "        print(\"label: {0}\\t\\tbox: {1}\\t\\tscore: {2}\".format(test_labels[j], test_boxes[j], test_scores[j]))\n",
    "    show_labeled_image(images[i], test_boxes, test_labels)"
   ]
  },
  {
   "cell_type": "code",
   "execution_count": null,
   "metadata": {},
   "outputs": [],
   "source": []
  }
 ],
 "metadata": {
  "kernelspec": {
   "display_name": "conda_pytorch_latest_p36",
   "language": "python",
   "name": "conda_pytorch_latest_p36"
  },
  "language_info": {
   "codemirror_mode": {
    "name": "ipython",
    "version": 3
   },
   "file_extension": ".py",
   "mimetype": "text/x-python",
   "name": "python",
   "nbconvert_exporter": "python",
   "pygments_lexer": "ipython3",
   "version": "3.6.10"
  }
 },
 "nbformat": 4,
 "nbformat_minor": 4
}
