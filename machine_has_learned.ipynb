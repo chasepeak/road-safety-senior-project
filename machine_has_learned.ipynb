{
 "cells": [
  {
   "cell_type": "code",
   "execution_count": 1,
   "metadata": {},
   "outputs": [],
   "source": [
    "! /home/ec2-user/anaconda3/envs/pytorch_latest_p36/bin/python -m pip install --upgrade pip\n",
    "! pip3 install detecto"
   ]
  },
  {
   "cell_type": "code",
   "execution_count": 2,
   "metadata": {
    "scrolled": false
   },
   "outputs": [],
   "source": [
    "from detecto.core import Model\n",
    "\n",
    "weights = \"model_weights.pth\"\n",
    "labels = [\"traffic-light\", \"crosswalk\", \"manhole\", \"traffic-cone\", \"bike-lane\", \"pedestrian\"]\n",
    "\n",
    "iterations = 10\n",
    "\n",
    "model = Model(labels) #Model.load(weights, labels)"
   ]
  },
  {
   "cell_type": "code",
   "execution_count": null,
   "metadata": {
    "scrolled": false
   },
   "outputs": [],
   "source": [
    "#TRAIN MODEL\n",
    "from detecto.core import Dataset\n",
    "import matplotlib.pyplot as plt\n",
    "\n",
    "training_dataset = Dataset('train/')\n",
    "validation_dataset = Dataset('validate/')\n",
    "\n",
    "losses = model.fit(training_dataset, validation_dataset, epochs=iterations, verbose=True)\n",
    "\n",
    "plt.plot(losses)\n",
    "plt.show()"
   ]
  },
  {
   "cell_type": "code",
   "execution_count": null,
   "metadata": {},
   "outputs": [],
   "source": [
    "# save model weights for further iterations\n",
    "\n",
    "model.save(\"model_weights.pth\")"
   ]
  },
  {
   "cell_type": "code",
   "execution_count": 3,
   "metadata": {},
   "outputs": [],
   "source": [
    "# method to create an array of object counts corresponding to the `labels` array\n",
    "\n",
    "def count_labels(test_labels, test_scores, confidence):\n",
    "    count = [0 for label in labels]\n",
    "    \n",
    "    for j in range(len(test_labels)):\n",
    "        if test_scores[j] > confidence:\n",
    "            count[labels.index(test_labels[j])] += 1 #by indexing with the labels array, the count array is formatted in the same order\n",
    "    return count"
   ]
  },
  {
   "cell_type": "code",
   "execution_count": 4,
   "metadata": {},
   "outputs": [],
   "source": [
    "def count_label_data(file_contents):\n",
    "    totals = [0 for label in labels]\n",
    "    \n",
    "    for i in range(len(labels)):\n",
    "        totals[i] = file_contents.count(labels[i])\n",
    "    return totals"
   ]
  },
  {
   "cell_type": "code",
   "execution_count": 6,
   "metadata": {
    "scrolled": false
   },
   "outputs": [],
   "source": [
    "#test validation set for accuracy\n",
    "\n",
    "import os\n",
    "from os import listdir, O_RDONLY\n",
    "from os.path import isfile, join\n",
    "from detecto.utils import read_image\n",
    "import matplotlib.pyplot as plt\n",
    "\n",
    "labels = [\"traffic-light\", \"crosswalk\", \"manhole\", \"traffic-cone\", \"bike-lane\", \"pedestrian\"]\n",
    "byte_limit = 4096\n",
    "\n",
    "val_dir = \"validate/\"\n",
    "val_data = [file for file in listdir(val_dir) if isfile(join(val_dir, file))]\n",
    "\n",
    "val_images = [file for file in val_data if file.split(\".\")[1]==\"jpg\"]\n",
    "val_labels = [file for file in val_data if file.split(\".\")[1]==\"xml\"]\n",
    "\n",
    "val_images.sort()\n",
    "val_labels.sort()\n",
    "\n",
    "total_identified = 0\n",
    "total_existing = 0\n",
    "accuracy_tracker = []\n",
    "\n",
    "for i in range(len(val_images)):\n",
    "    fd = os.open(\"{0}{1}\".format(val_dir,val_labels[i]), O_RDONLY)\n",
    "    print(\"processing: {}\".format(val_images[i]))\n",
    "\n",
    "    file_contents = os.read(fd, byte_limit).decode()\n",
    "    label_data = count_label_data(file_contents)\n",
    "\n",
    "    total_existing += sum(label_data)\n",
    "\n",
    "    #get predictions from model on validation image\n",
    "    image = read_image(\"{0}{1}\".format(val_dir, val_images[i]))\n",
    "    test_labels, test_boxes, test_scores = model.predict(image)\n",
    "\n",
    "    label_predictions = count_labels(test_labels, test_scores, 0.4)\n",
    "\n",
    "    for j in range(len(label_predictions)):\n",
    "        total_identified += min(label_predictions[j], label_data[j])\n",
    "    os.close(fd)\n",
    "    accuracy_tracker.append(total_identified / total_existing)\n",
    "\n",
    "print(\"validation_set accuracy: {}\".format(total_identified / total_existing))\n",
    "plt.plot(accuracy_tracker)\n",
    "plt.show()    "
   ]
  },
  {
   "cell_type": "code",
   "execution_count": null,
   "metadata": {},
   "outputs": [],
   "source": []
  },
  {
   "cell_type": "code",
   "execution_count": null,
   "metadata": {},
   "outputs": [],
   "source": [
    "# test model against new image set\n",
    "\n",
    "import os\n",
    "from os import listdir, O_RDWR, O_CREAT\n",
    "from os.path import isfile, join\n",
    "from detecto.utils import read_image\n",
    "\n",
    "#define testing images\n",
    "test_dir = \"test/\"\n",
    "test_images = [file for file in listdir(test_dir) if isfile(join(test_dir, file))]\n",
    "\n",
    "#open results and log files\n",
    "fd1 = os.open(\"test_results.txt\", O_RDWR | O_CREAT)\n",
    "fd2 = os.open(\"test_logs.txt\", O_RDWR | O_CREAT)\n",
    "\n",
    "#add header to results file\n",
    "formatted_labels = \"{:26}\".format(\"image\")\n",
    "for label in labels:\n",
    "    formatted_labels += \"{:>14}\".format(label)\n",
    "formatted_labels += \"\\n\"\n",
    "\n",
    "os.write(fd1, formatted_labels.encode())\n",
    "\n",
    "for i in range(len(test_images)):\n",
    "    #set filename and make predictions\n",
    "    image = read_image(\"{0}{1}\".format(test_dir, test_images[i]))\n",
    "    test_labels, test_boxes, test_scores = model.predict(image)\n",
    "    \n",
    "    #write to log file\n",
    "    os.write(fd2, (\"image: {}\\n\".format(test_images[i])).encode())\n",
    "    for j in range(len(test_labels)):\n",
    "        os.write(fd2, (\"label: {0}\\t\\tbox: {1}\\tscore: {2}\\n\".format(test_labels[j], str(test_boxes[j]), str(test_scores[j]))).encode())\n",
    "    os.write(fd2, \"\\n\".encode())\n",
    "    \n",
    "    if len(test_labels) == 0:\n",
    "        os.write(fd2, \"N/A\\n\".encode())\n",
    "    \n",
    "    #count objects and format for results file\n",
    "    object_counts = count_labels(test_labels, test_scores)\n",
    "    object_counts = [str(count) for count in object_counts]\n",
    "    formatted_object_counts = test_images[i]\n",
    "    for count in object_counts:\n",
    "        formatted_object_counts += \"{:>14}\".format(count)\n",
    "    formatted_object_counts += \"\\n\\n\"\n",
    "    \n",
    "    #format rows with separation\n",
    "    os.write(fd1, formatted_object_counts.encode())\n",
    "    os.write(fd1, (\"-\" * (26 + 14 * 6) + \"\\n\").encode())\n",
    "\n",
    "os.close(fd1)\n",
    "os.close(fd2)"
   ]
  },
  {
   "cell_type": "code",
   "execution_count": null,
   "metadata": {
    "scrolled": false
   },
   "outputs": [],
   "source": [
    "# test on new images\n",
    "\n",
    "from detecto.utils import read_image\n",
    "from detecto.visualize import show_labeled_image\n",
    "\n",
    "image01 = read_image('test01.jpg')\n",
    "image02 = read_image('test02.jpg')\n",
    "image03 = read_image('test03.jpg')\n",
    "\n",
    "images = [image01, image02, image03]\n",
    "\n",
    "for i in range(len(images)):\n",
    "    print(\"image: {}\".format(i))\n",
    "    test_labels, test_boxes, test_scores = model.predict_top(images[i])\n",
    "    for j in range(len(test_boxes)):\n",
    "        print(\"label: {0}\\t\\tbox: {1}\\t\\tscore: {2}\".format(test_labels[j], test_boxes[j], test_scores[j]))\n",
    "    show_labeled_image(images[i], test_boxes, test_labels)"
   ]
  },
  {
   "cell_type": "code",
   "execution_count": null,
   "metadata": {},
   "outputs": [],
   "source": []
  }
 ],
 "metadata": {
  "kernelspec": {
   "display_name": "conda_pytorch_latest_p36",
   "language": "python",
   "name": "conda_pytorch_latest_p36"
  },
  "language_info": {
   "codemirror_mode": {
    "name": "ipython",
    "version": 3
   },
   "file_extension": ".py",
   "mimetype": "text/x-python",
   "name": "python",
   "nbconvert_exporter": "python",
   "pygments_lexer": "ipython3",
   "version": "3.6.10"
  }
 },
 "nbformat": 4,
 "nbformat_minor": 4
}
